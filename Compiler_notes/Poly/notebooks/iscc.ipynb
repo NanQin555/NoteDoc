{
 "cells": [
  {
   "cell_type": "markdown",
   "metadata": {},
   "source": [
    "# Exercise\n",
    "``` c\n",
    " int f1(int m, int n, int A[const static m][n]) {\n",
    "    int t = 0;\n",
    "    for (int i = 0; i < m; ++i)\n",
    "    t += A[i][i];\n",
    "    return t;\n",
    " }\n",
    " void f2(int m, int n, int A[/*.*/m][n][n], int B[/*.*/m][n]) {\n",
    " for (int i = 0; i < m; ++i) {\n",
    " S:     B[i][0] = 0;\n",
    "        for (int j = 0; j < n; ++j) {\n",
    "        if (j == i)\n",
    "            continue;\n",
    " T:     B[i][j] = f1(j, n, A[i]);\n",
    "        }\n",
    "    }\n",
    " }\n",
    " ```\n",
    " Compute dependence relation\n",
    " Ans : { }  (empty set)"
   ]
  },
  {
   "cell_type": "markdown",
   "metadata": {},
   "source": [
    "use iscc\n",
    "\n",
    "```\n",
    " W := { S[i]->B[i,0]; T[i,j]->B[i,j]:i!=j };\n",
    " R := { T[i,j]->A[i,i]: i!=j};\n",
    " I := [m,n]->{ S[i] : 0 <=i<m;\n",
    " T[i,j] : 0<=i<m and 0<=j<n and i!=j};\n",
    " O := { S[i]-> [i,0,0]; T[i,j]-> [i,1,j] };\n",
    " ((R . W^-1) + (W . W^-1) + (W . R^-1)) * (O << O);\n",
    "```\n",
    "and get:  { S[i] -> T[i' = i, j = 0] : i < 0 or i > 0 }\n",
    "\n",
    "感觉更像是写后写依赖?\n",
    "\n",
    "```\n",
    " W := { S[i]->B[i]; T[i,j]->B[i,j]:i!=j };\n",
    " R := { T[i,j]->A[i,i]: i!=j};\n",
    " I := [m,n]->{ S[i] : 0 <=i<m;\n",
    " T[i,j] : 0<=i<m and 0<=j<n and i!=j};\n",
    " O := { S[i]-> [i,0,0]; T[i,j]-> [i,1,j] };\n",
    " ((R . W^-1) + (W . W^-1) + (W . R^-1)) * (O << O);\n",
    "```\n",
    "and get: { }\n",
    "\n",
    "these two input difference in \"W\", which without a \"0\" in S[i]->B[i,0]."
   ]
  },
  {
   "cell_type": "markdown",
   "metadata": {},
   "source": []
  }
 ],
 "metadata": {
  "language_info": {
   "name": "python"
  }
 },
 "nbformat": 4,
 "nbformat_minor": 2
}
